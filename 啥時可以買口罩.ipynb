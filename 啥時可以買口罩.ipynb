{
  "nbformat": 4,
  "nbformat_minor": 0,
  "metadata": {
    "colab": {
      "provenance": [],
      "authorship_tag": "ABX9TyMnihAAOs1tbmGcc1drJAR+",
      "include_colab_link": true
    },
    "kernelspec": {
      "name": "python3",
      "display_name": "Python 3"
    },
    "language_info": {
      "name": "python"
    },
    "widgets": {
      "application/vnd.jupyter.widget-state+json": {
        "d66f842130bc4a269e91c6eb70a1981c": {
          "model_module": "@jupyter-widgets/controls",
          "model_name": "VBoxModel",
          "model_module_version": "1.5.0",
          "state": {
            "_view_name": "VBoxView",
            "_dom_classes": [
              "widget-interact"
            ],
            "_model_name": "VBoxModel",
            "_view_module": "@jupyter-widgets/controls",
            "_model_module_version": "1.5.0",
            "_view_count": null,
            "_view_module_version": "1.5.0",
            "box_style": "",
            "layout": "IPY_MODEL_e5965b09e52742e2abcbc5a26403e874",
            "_model_module": "@jupyter-widgets/controls",
            "children": [
              "IPY_MODEL_cab9b804ff0042aaac973c10dd374db3",
              "IPY_MODEL_d915aac5f3554753b35460488b1866e5"
            ]
          }
        },
        "e5965b09e52742e2abcbc5a26403e874": {
          "model_module": "@jupyter-widgets/base",
          "model_name": "LayoutModel",
          "model_module_version": "1.2.0",
          "state": {
            "_view_name": "LayoutView",
            "grid_template_rows": null,
            "right": null,
            "justify_content": null,
            "_view_module": "@jupyter-widgets/base",
            "overflow": null,
            "_model_module_version": "1.2.0",
            "_view_count": null,
            "flex_flow": null,
            "width": null,
            "min_width": null,
            "border": null,
            "align_items": null,
            "bottom": null,
            "_model_module": "@jupyter-widgets/base",
            "top": null,
            "grid_column": null,
            "overflow_y": null,
            "overflow_x": null,
            "grid_auto_flow": null,
            "grid_area": null,
            "grid_template_columns": null,
            "flex": null,
            "_model_name": "LayoutModel",
            "justify_items": null,
            "grid_row": null,
            "max_height": null,
            "align_content": null,
            "visibility": null,
            "align_self": null,
            "height": null,
            "min_height": null,
            "padding": null,
            "grid_auto_rows": null,
            "grid_gap": null,
            "max_width": null,
            "order": null,
            "_view_module_version": "1.2.0",
            "grid_template_areas": null,
            "object_position": null,
            "object_fit": null,
            "grid_auto_columns": null,
            "margin": null,
            "display": null,
            "left": null
          }
        },
        "cab9b804ff0042aaac973c10dd374db3": {
          "model_module": "@jupyter-widgets/controls",
          "model_name": "DropdownModel",
          "model_module_version": "1.5.0",
          "state": {
            "_options_labels": [
              "0",
              "1",
              "2",
              "3",
              "4",
              "5",
              "6",
              "7",
              "8",
              "9"
            ],
            "_view_name": "DropdownView",
            "style": "IPY_MODEL_b5a42096b37a470cb9b9d85ff9f46232",
            "_dom_classes": [],
            "description": "身分證尾碼",
            "_model_name": "DropdownModel",
            "index": 0,
            "_view_module": "@jupyter-widgets/controls",
            "_model_module_version": "1.5.0",
            "_view_count": null,
            "disabled": false,
            "_view_module_version": "1.5.0",
            "description_tooltip": null,
            "_model_module": "@jupyter-widgets/controls",
            "layout": "IPY_MODEL_73fd44f1bd0540dba975ae63ece5fd61"
          }
        },
        "d915aac5f3554753b35460488b1866e5": {
          "model_module": "@jupyter-widgets/output",
          "model_name": "OutputModel",
          "model_module_version": "1.0.0",
          "state": {
            "_view_name": "OutputView",
            "msg_id": "",
            "_dom_classes": [],
            "_model_name": "OutputModel",
            "outputs": [
              {
                "output_type": "stream",
                "name": "stdout",
                "text": [
                  "您的身分證尾碼為： 0\n",
                  "\n",
                  "根據新冠疫情指揮中心指示，\n",
                  "您可以於以下時段購買口罩：\n",
                  "星期二、星期四、星期六、星期日\n",
                  " \n",
                  "非常時期，請共體時艱，切勿囤積口罩以及任何物資，留給有需要的人。\n",
                  "疫情指揮中心祝您有美好的一天~\n"
                ]
              }
            ],
            "_view_module": "@jupyter-widgets/output",
            "_model_module_version": "1.0.0",
            "_view_count": null,
            "_view_module_version": "1.0.0",
            "layout": "IPY_MODEL_73984a44eb7b48e79276c91b6805abc5",
            "_model_module": "@jupyter-widgets/output"
          }
        },
        "b5a42096b37a470cb9b9d85ff9f46232": {
          "model_module": "@jupyter-widgets/controls",
          "model_name": "DescriptionStyleModel",
          "model_module_version": "1.5.0",
          "state": {
            "_view_name": "StyleView",
            "_model_name": "DescriptionStyleModel",
            "description_width": "",
            "_view_module": "@jupyter-widgets/base",
            "_model_module_version": "1.5.0",
            "_view_count": null,
            "_view_module_version": "1.2.0",
            "_model_module": "@jupyter-widgets/controls"
          }
        },
        "73fd44f1bd0540dba975ae63ece5fd61": {
          "model_module": "@jupyter-widgets/base",
          "model_name": "LayoutModel",
          "model_module_version": "1.2.0",
          "state": {
            "_view_name": "LayoutView",
            "grid_template_rows": null,
            "right": null,
            "justify_content": null,
            "_view_module": "@jupyter-widgets/base",
            "overflow": null,
            "_model_module_version": "1.2.0",
            "_view_count": null,
            "flex_flow": null,
            "width": null,
            "min_width": null,
            "border": null,
            "align_items": null,
            "bottom": null,
            "_model_module": "@jupyter-widgets/base",
            "top": null,
            "grid_column": null,
            "overflow_y": null,
            "overflow_x": null,
            "grid_auto_flow": null,
            "grid_area": null,
            "grid_template_columns": null,
            "flex": null,
            "_model_name": "LayoutModel",
            "justify_items": null,
            "grid_row": null,
            "max_height": null,
            "align_content": null,
            "visibility": null,
            "align_self": null,
            "height": null,
            "min_height": null,
            "padding": null,
            "grid_auto_rows": null,
            "grid_gap": null,
            "max_width": null,
            "order": null,
            "_view_module_version": "1.2.0",
            "grid_template_areas": null,
            "object_position": null,
            "object_fit": null,
            "grid_auto_columns": null,
            "margin": null,
            "display": null,
            "left": null
          }
        },
        "73984a44eb7b48e79276c91b6805abc5": {
          "model_module": "@jupyter-widgets/base",
          "model_name": "LayoutModel",
          "model_module_version": "1.2.0",
          "state": {
            "_view_name": "LayoutView",
            "grid_template_rows": null,
            "right": null,
            "justify_content": null,
            "_view_module": "@jupyter-widgets/base",
            "overflow": null,
            "_model_module_version": "1.2.0",
            "_view_count": null,
            "flex_flow": null,
            "width": null,
            "min_width": null,
            "border": null,
            "align_items": null,
            "bottom": null,
            "_model_module": "@jupyter-widgets/base",
            "top": null,
            "grid_column": null,
            "overflow_y": null,
            "overflow_x": null,
            "grid_auto_flow": null,
            "grid_area": null,
            "grid_template_columns": null,
            "flex": null,
            "_model_name": "LayoutModel",
            "justify_items": null,
            "grid_row": null,
            "max_height": null,
            "align_content": null,
            "visibility": null,
            "align_self": null,
            "height": null,
            "min_height": null,
            "padding": null,
            "grid_auto_rows": null,
            "grid_gap": null,
            "max_width": null,
            "order": null,
            "_view_module_version": "1.2.0",
            "grid_template_areas": null,
            "object_position": null,
            "object_fit": null,
            "grid_auto_columns": null,
            "margin": null,
            "display": null,
            "left": null
          }
        }
      }
    }
  },
  "cells": [
    {
      "cell_type": "markdown",
      "metadata": {
        "id": "view-in-github",
        "colab_type": "text"
      },
      "source": [
        "<a href=\"https://colab.research.google.com/github/UglyGirl-1208/Python-Project/blob/main/%E5%95%A5%E6%99%82%E5%8F%AF%E4%BB%A5%E8%B2%B7%E5%8F%A3%E7%BD%A9.ipynb\" target=\"_parent\"><img src=\"https://colab.research.google.com/assets/colab-badge.svg\" alt=\"Open In Colab\"/></a>"
      ]
    },
    {
      "cell_type": "markdown",
      "source": [
        "#啥時可以買口罩？\n",
        "\n",
        "雖然離口罩配給的時期有些遠了，但還是想要嘗試利用身分證尾碼，來判斷星期幾可以買口罩。"
      ],
      "metadata": {
        "id": "tjIZqvAw6KzJ"
      }
    },
    {
      "cell_type": "markdown",
      "source": [
        "###讀取"
      ],
      "metadata": {
        "id": "YoPkSTzm6xuZ"
      }
    },
    {
      "cell_type": "code",
      "execution_count": null,
      "metadata": {
        "id": "f0fb95YheI8J"
      },
      "outputs": [],
      "source": [
        "%matplotlib inline\n",
        "import numpy as np\n",
        "import sympy as sp\n",
        "import pandas as pd\n",
        "import matplotlib.pyplot as plt\n",
        "from ipywidgets import interact"
      ]
    },
    {
      "cell_type": "markdown",
      "source": [
        "###製作判斷買口罩時段的程式"
      ],
      "metadata": {
        "id": "enVC1z0Y610q"
      }
    },
    {
      "cell_type": "code",
      "source": [
        "def f(身分證尾碼):\n",
        "  print(\"您的身分證尾碼為：\", 身分證尾碼)\n",
        "  print( )\n",
        "\n",
        "  if (身分證尾碼 % 2) == 0: #如果身分證尾碼是偶數，可以在星期二、四、六、日買\n",
        "    print(\"根據新冠疫情指揮中心指示，\")\n",
        "    print(\"您可以於以下時段購買口罩：\")\n",
        "    print(\"星期二、星期四、星期六、星期日\")\n",
        "    print(\" \")\n",
        "    print(\"非常時期，請共體時艱，切勿囤積口罩以及任何物資，留給有需要的人。\")\n",
        "    print(\"疫情指揮中心祝您有美好的一天~\")\n",
        "  else: #如果身分證尾碼不是偶數，可以在星期一、三、五、日買\n",
        "    print(\"根據新冠疫情指揮中心指示，\")\n",
        "    print(\"您可以於以下時段購買口罩：\")\n",
        "    print(\"星期一、星期三、星期五、星期日\")\n",
        "    print(\" \")\n",
        "    print(\"非常時期，請共體時艱，切勿囤積口罩以及任何物資，留給有需要的人。\")\n",
        "    print(\"疫情指揮中心祝您有美好的一天~\")\n",
        "\n"
      ],
      "metadata": {
        "id": "FW2_uERpgYg_"
      },
      "execution_count": null,
      "outputs": []
    },
    {
      "cell_type": "markdown",
      "source": [
        "###使用互動功能"
      ],
      "metadata": {
        "id": "xeJKt7E27U1K"
      }
    },
    {
      "cell_type": "code",
      "source": [
        "interact(f, 身分證尾碼 = [0, 1, 2, 3, 4, 5, 6, 7, 8, 9]);"
      ],
      "metadata": {
        "colab": {
          "base_uri": "https://localhost:8080/",
          "height": 188,
          "referenced_widgets": [
            "d66f842130bc4a269e91c6eb70a1981c",
            "e5965b09e52742e2abcbc5a26403e874",
            "cab9b804ff0042aaac973c10dd374db3",
            "d915aac5f3554753b35460488b1866e5",
            "b5a42096b37a470cb9b9d85ff9f46232",
            "73fd44f1bd0540dba975ae63ece5fd61",
            "73984a44eb7b48e79276c91b6805abc5"
          ]
        },
        "id": "dtB9vmSJe5p5",
        "outputId": "22de487b-dce6-4a49-d718-b029b1a404ec"
      },
      "execution_count": null,
      "outputs": [
        {
          "output_type": "display_data",
          "data": {
            "application/vnd.jupyter.widget-view+json": {
              "model_id": "d66f842130bc4a269e91c6eb70a1981c",
              "version_minor": 0,
              "version_major": 2
            },
            "text/plain": [
              "interactive(children=(Dropdown(description='身分證尾碼', options=(0, 1, 2, 3, 4, 5, 6, 7, 8, 9), value=0), Output()…"
            ]
          },
          "metadata": {}
        }
      ]
    },
    {
      "cell_type": "markdown",
      "source": [
        "##我的小小感謝~~"
      ],
      "metadata": {
        "id": "vQOyyK6V7Y7Y"
      }
    },
    {
      "cell_type": "code",
      "source": [
        "#上網查了matplotlib的功能後，發現它還有讀取圖片的功能\n",
        "import matplotlib.image as mpimg"
      ],
      "metadata": {
        "id": "NB36ZjDM5tgL"
      },
      "execution_count": null,
      "outputs": []
    },
    {
      "cell_type": "code",
      "source": [
        "#讀取圖片\n",
        "picture = mpimg.imread('thank.jpg')"
      ],
      "metadata": {
        "id": "1HDPKS6E5vGJ"
      },
      "execution_count": null,
      "outputs": []
    },
    {
      "cell_type": "code",
      "source": [
        "#讀取display功能\n",
        "from IPython.display import display, HTML, Markdown"
      ],
      "metadata": {
        "id": "LioVQrZd2_o-"
      },
      "execution_count": null,
      "outputs": []
    },
    {
      "cell_type": "code",
      "source": [
        "#打上想要說的話\n",
        "thanks = r\"#謝謝老師與助教的指導！\"\n",
        "thank_you = Markdown(thanks)"
      ],
      "metadata": {
        "id": "KP40nvOP3VqM"
      },
      "execution_count": null,
      "outputs": []
    },
    {
      "cell_type": "code",
      "source": [
        "#顯示結果\n",
        "display(thank_you)\n",
        "plt.imshow(picture)\n",
        "plt.axis('off') # 不顯示座標軸\n",
        "plt.show()"
      ],
      "metadata": {
        "colab": {
          "base_uri": "https://localhost:8080/",
          "height": 305
        },
        "id": "eDHOaAPD3x2S",
        "outputId": "f8a7ef9c-7b80-456e-d42a-1acbe02f2edd"
      },
      "execution_count": null,
      "outputs": [
        {
          "output_type": "display_data",
          "data": {
            "text/markdown": "#謝謝老師與助教的指導！",
            "text/plain": [
              "<IPython.core.display.Markdown object>"
            ]
          },
          "metadata": {}
        },
        {
          "output_type": "display_data",
          "data": {
            "image/png": "[encoded data removed]",
            "text/plain": [
              "<Figure size 432x288 with 1 Axes>"
            ]
          },
          "metadata": {
            "needs_background": "light"
          }
        }
      ]
    },
    {
      "cell_type": "code",
      "source": [],
      "metadata": {
        "id": "gAQuHX-G8WLM"
      },
      "execution_count": null,
      "outputs": []
    }
  ]
}